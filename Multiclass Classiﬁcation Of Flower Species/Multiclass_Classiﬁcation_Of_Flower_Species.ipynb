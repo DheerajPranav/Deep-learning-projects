{
  "nbformat": 4,
  "nbformat_minor": 0,
  "metadata": {
    "colab": {
      "name": " Multiclass Classiﬁcation Of Flower Species",
      "provenance": []
    },
    "kernelspec": {
      "name": "python3",
      "display_name": "Python 3"
    }
  },
  "cells": [
    {
      "cell_type": "code",
      "metadata": {
        "id": "Ls3CcjUdHRDU",
        "colab_type": "code",
        "colab": {}
      },
      "source": [
        "import numpy \n",
        "import pandas \n",
        "from keras.models import Sequential \n",
        "from keras.layers import Dense \n",
        "from keras.wrappers.scikit_learn import KerasClassifier \n",
        "from keras.utils import np_utils \n",
        "from sklearn.model_selection import cross_val_score \n",
        "from sklearn.model_selection import KFold \n",
        "from sklearn.preprocessing import LabelEncoder \n",
        "from sklearn.pipeline import Pipeline\n",
        "from sklearn import \n",
        "from keras import *"
      ],
      "execution_count": 0,
      "outputs": []
    },
    {
      "cell_type": "code",
      "metadata": {
        "id": "bcSvTLjEIe4U",
        "colab_type": "code",
        "colab": {}
      },
      "source": [
        "# fix random seed for reproducibility \n",
        "seed = 7 \n",
        "numpy.random.seed(seed)"
      ],
      "execution_count": 0,
      "outputs": []
    },
    {
      "cell_type": "code",
      "metadata": {
        "id": "xKdvMD8FIs3U",
        "colab_type": "code",
        "colab": {}
      },
      "source": [
        "# load dataset \n",
        "dataframe = pandas.read_csv(\"https://raw.githubusercontent.com/jbrownlee/Datasets/master/iris.csv\", header=None) \n",
        "dataset = dataframe.values \n",
        "X = dataset[:,0:4].astype(float) \n",
        "Y = dataset[:,4]"
      ],
      "execution_count": 0,
      "outputs": []
    },
    {
      "cell_type": "code",
      "metadata": {
        "id": "Z00DS8AkMhIb",
        "colab_type": "code",
        "colab": {
          "base_uri": "https://localhost:8080/",
          "height": 142
        },
        "outputId": "1ec7e3bc-3468-43de-ff3e-bbd7ac283487"
      },
      "source": [
        "dataframe.head(3)"
      ],
      "execution_count": 37,
      "outputs": [
        {
          "output_type": "execute_result",
          "data": {
            "text/html": [
              "<div>\n",
              "<style scoped>\n",
              "    .dataframe tbody tr th:only-of-type {\n",
              "        vertical-align: middle;\n",
              "    }\n",
              "\n",
              "    .dataframe tbody tr th {\n",
              "        vertical-align: top;\n",
              "    }\n",
              "\n",
              "    .dataframe thead th {\n",
              "        text-align: right;\n",
              "    }\n",
              "</style>\n",
              "<table border=\"1\" class=\"dataframe\">\n",
              "  <thead>\n",
              "    <tr style=\"text-align: right;\">\n",
              "      <th></th>\n",
              "      <th>0</th>\n",
              "      <th>1</th>\n",
              "      <th>2</th>\n",
              "      <th>3</th>\n",
              "      <th>4</th>\n",
              "    </tr>\n",
              "  </thead>\n",
              "  <tbody>\n",
              "    <tr>\n",
              "      <th>0</th>\n",
              "      <td>5.1</td>\n",
              "      <td>3.5</td>\n",
              "      <td>1.4</td>\n",
              "      <td>0.2</td>\n",
              "      <td>Iris-setosa</td>\n",
              "    </tr>\n",
              "    <tr>\n",
              "      <th>1</th>\n",
              "      <td>4.9</td>\n",
              "      <td>3.0</td>\n",
              "      <td>1.4</td>\n",
              "      <td>0.2</td>\n",
              "      <td>Iris-setosa</td>\n",
              "    </tr>\n",
              "    <tr>\n",
              "      <th>2</th>\n",
              "      <td>4.7</td>\n",
              "      <td>3.2</td>\n",
              "      <td>1.3</td>\n",
              "      <td>0.2</td>\n",
              "      <td>Iris-setosa</td>\n",
              "    </tr>\n",
              "  </tbody>\n",
              "</table>\n",
              "</div>"
            ],
            "text/plain": [
              "     0    1    2    3            4\n",
              "0  5.1  3.5  1.4  0.2  Iris-setosa\n",
              "1  4.9  3.0  1.4  0.2  Iris-setosa\n",
              "2  4.7  3.2  1.3  0.2  Iris-setosa"
            ]
          },
          "metadata": {
            "tags": []
          },
          "execution_count": 37
        }
      ]
    },
    {
      "cell_type": "markdown",
      "metadata": {
        "id": "M3onYNbaJFlF",
        "colab_type": "text"
      },
      "source": [
        "The output variable contains three different string values. When modeling multiclass classiﬁcation problems using neural networks, it is good practice to reshape the output attribute from a vector that contains values for each class value to be a matrix with a boolean for each class value and whether or not a given instance has that class value or not. This is called one hot encoding or creating dummy variables from a categorical variable. For example, in this problem the three class values are Iris-setosa, Iris-versicolor and Iris-virginica. If we had the three observations:\n",
        "- Iris-setosa \n",
        "- Iris-versicolor \n",
        "- Iris-virginica\n",
        "\n",
        "We can do this by ﬁrst encoding the strings consistently to integers using the scikit-learn class LabelEncoder. Then convert the vector of integers to a one hot encoding using the Keras function to categorical().\n",
        "\n"
      ]
    },
    {
      "cell_type": "code",
      "metadata": {
        "id": "7U2sn1ygI6Jd",
        "colab_type": "code",
        "colab": {}
      },
      "source": [
        "# encode class values as integers \n",
        "encoder = LabelEncoder() \n",
        "encoder.fit(Y) \n",
        "encoded_Y = encoder.transform(Y) \n",
        "# convert integers to dummy variables (i.e. one hot encoded) \n",
        "dummy_y = np_utils.to_categorical(encoded_Y)"
      ],
      "execution_count": 0,
      "outputs": []
    },
    {
      "cell_type": "markdown",
      "metadata": {
        "id": "i5-Qar4KJycy",
        "colab_type": "text"
      },
      "source": [
        " ## Deﬁne The Neural Network Model\n",
        " 4 inputs -> [4 hidden nodes] -> 3 outputs"
      ]
    },
    {
      "cell_type": "markdown",
      "metadata": {
        "id": "3yERofYKJ-4I",
        "colab_type": "text"
      },
      "source": [
        "Note that we use a sigmoid activation function in the output layer. This is to ensure the output values are in the range of 0 and 1 and may be used as predicted probabilities. Finally, the network uses the ecient ADAM gradient descent optimization algorithm with a logarithmic loss function, which is called categorical crossentropy in Keras.\n"
      ]
    },
    {
      "cell_type": "code",
      "metadata": {
        "id": "09jHG43rJfRA",
        "colab_type": "code",
        "colab": {
          "base_uri": "https://localhost:8080/",
          "height": 105
        },
        "outputId": "bb76e410-9283-4b0e-e324-56c64a50e4c5"
      },
      "source": [
        "# define baseline model \n",
        "def baseline_model(): \n",
        "  # create model \n",
        "  model = Sequential() \n",
        "  model.add(Dense(4, input_dim=4, init= 'normal' , activation= 'relu' )) \n",
        "  model.add(Dense(3, init= 'normal' , activation= 'sigmoid' )) \n",
        "  # Compile model \n",
        "  model.compile(loss= 'categorical_crossentropy' , optimizer= 'adam' , metrics=[ 'accuracy' ]) \n",
        "  return model\n",
        "\n",
        "model = Sequential() \n",
        "model.add(Dense(4, input_dim=4, init= 'normal' , activation= 'relu' )) \n",
        "model.add(Dense(3, init= 'normal' , activation= 'sigmoid' )) \n",
        "# Compile model \n",
        "model.compile(loss= 'categorical_crossentropy' , optimizer= 'adam' , metrics=[ 'accuracy' ]) \n"
      ],
      "execution_count": 52,
      "outputs": [
        {
          "output_type": "stream",
          "text": [
            "/usr/local/lib/python3.6/dist-packages/ipykernel_launcher.py:11: UserWarning: Update your `Dense` call to the Keras 2 API: `Dense(4, input_dim=4, activation=\"relu\", kernel_initializer=\"normal\")`\n",
            "  # This is added back by InteractiveShellApp.init_path()\n",
            "/usr/local/lib/python3.6/dist-packages/ipykernel_launcher.py:12: UserWarning: Update your `Dense` call to the Keras 2 API: `Dense(3, activation=\"sigmoid\", kernel_initializer=\"normal\")`\n",
            "  if sys.path[0] == '':\n"
          ],
          "name": "stderr"
        }
      ]
    },
    {
      "cell_type": "markdown",
      "metadata": {
        "id": "J6efAVGbKUPf",
        "colab_type": "text"
      },
      "source": [
        "#### We can now create our KerasClassifier for use in scikit-learn. We can also pass arguments in the construction of the KerasClassifier class that will be passed on to the fit() function internally used to train the neural network. Here, we pass the number of epochs nb epoch as 200 and batch size as 5 to use when training the model. Debugging is also turned o↵ when training by setting verbose to 0.\n"
      ]
    },
    {
      "cell_type": "markdown",
      "metadata": {
        "id": "Uhd26EttKfOq",
        "colab_type": "text"
      },
      "source": [
        "## Evaluate The Model with k-Fold Cross Validation\n",
        "\n",
        "We can now evaluate the neural network model on our training data. The scikit-learn library has excellent capability to evaluate models using a suite of techniques. The gold standard for evaluating machine learning models is k-fold cross validation. First we can deﬁne the model 66 evaluation procedure. Here, we set the number of folds to be 10 (an excellent default) and to shuffle the data before partitioning it.\n",
        "\n"
      ]
    },
    {
      "cell_type": "code",
      "metadata": {
        "id": "Uvjz5AqUKeyk",
        "colab_type": "code",
        "colab": {}
      },
      "source": [
        "kfold = KFold(n_splits=10, shuffle=True, random_state=seed)"
      ],
      "execution_count": 0,
      "outputs": []
    },
    {
      "cell_type": "markdown",
      "metadata": {
        "id": "lruXou9sK5t9",
        "colab_type": "text"
      },
      "source": [
        "Now we can evaluate our model (estimator) on our dataset (X and dummy y) using a 10-fold cross validation procedure (kfold). Evaluating the model only takes approximately 10 seconds and returns an object that describes the evaluation of the 10 constructed models for each of the splits of the dataset.\n"
      ]
    },
    {
      "cell_type": "code",
      "metadata": {
        "id": "AXV82ddPRNQW",
        "colab_type": "code",
        "colab": {
          "base_uri": "https://localhost:8080/",
          "height": 1000
        },
        "outputId": "820901a7-5dde-4bd5-eba9-afd3b90f91e9"
      },
      "source": [
        "model.fit(X,dummy_y,nb_epoch=200, batch_size=5)"
      ],
      "execution_count": 53,
      "outputs": [
        {
          "output_type": "stream",
          "text": [
            "/usr/local/lib/python3.6/dist-packages/ipykernel_launcher.py:1: UserWarning: The `nb_epoch` argument in `fit` has been renamed `epochs`.\n",
            "  \"\"\"Entry point for launching an IPython kernel.\n"
          ],
          "name": "stderr"
        },
        {
          "output_type": "stream",
          "text": [
            "Epoch 1/200\n",
            "150/150 [==============================] - 0s 650us/step - loss: 1.0958 - accuracy: 0.5867\n",
            "Epoch 2/200\n",
            "150/150 [==============================] - 0s 202us/step - loss: 1.0917 - accuracy: 0.6533\n",
            "Epoch 3/200\n",
            "150/150 [==============================] - 0s 211us/step - loss: 1.0857 - accuracy: 0.6667\n",
            "Epoch 4/200\n",
            "150/150 [==============================] - 0s 264us/step - loss: 1.0778 - accuracy: 0.6667\n",
            "Epoch 5/200\n",
            "150/150 [==============================] - 0s 230us/step - loss: 1.0666 - accuracy: 0.6667\n",
            "Epoch 6/200\n",
            "150/150 [==============================] - 0s 229us/step - loss: 1.0523 - accuracy: 0.6667\n",
            "Epoch 7/200\n",
            "150/150 [==============================] - 0s 233us/step - loss: 1.0351 - accuracy: 0.6667\n",
            "Epoch 8/200\n",
            "150/150 [==============================] - 0s 234us/step - loss: 1.0140 - accuracy: 0.6667\n",
            "Epoch 9/200\n",
            "150/150 [==============================] - 0s 269us/step - loss: 0.9900 - accuracy: 0.6667\n",
            "Epoch 10/200\n",
            "150/150 [==============================] - 0s 256us/step - loss: 0.9626 - accuracy: 0.6667\n",
            "Epoch 11/200\n",
            "150/150 [==============================] - 0s 252us/step - loss: 0.9319 - accuracy: 0.6667\n",
            "Epoch 12/200\n",
            "150/150 [==============================] - 0s 232us/step - loss: 0.8999 - accuracy: 0.6667\n",
            "Epoch 13/200\n",
            "150/150 [==============================] - 0s 236us/step - loss: 0.8651 - accuracy: 0.6667\n",
            "Epoch 14/200\n",
            "150/150 [==============================] - 0s 231us/step - loss: 0.8314 - accuracy: 0.6667\n",
            "Epoch 15/200\n",
            "150/150 [==============================] - 0s 232us/step - loss: 0.7972 - accuracy: 0.6667\n",
            "Epoch 16/200\n",
            "150/150 [==============================] - 0s 230us/step - loss: 0.7638 - accuracy: 0.6733\n",
            "Epoch 17/200\n",
            "150/150 [==============================] - 0s 236us/step - loss: 0.7314 - accuracy: 0.6733\n",
            "Epoch 18/200\n",
            "150/150 [==============================] - 0s 227us/step - loss: 0.7009 - accuracy: 0.7000\n",
            "Epoch 19/200\n",
            "150/150 [==============================] - 0s 248us/step - loss: 0.6726 - accuracy: 0.7000\n",
            "Epoch 20/200\n",
            "150/150 [==============================] - 0s 257us/step - loss: 0.6462 - accuracy: 0.7467\n",
            "Epoch 21/200\n",
            "150/150 [==============================] - 0s 242us/step - loss: 0.6217 - accuracy: 0.8533\n",
            "Epoch 22/200\n",
            "150/150 [==============================] - 0s 234us/step - loss: 0.5987 - accuracy: 0.9000\n",
            "Epoch 23/200\n",
            "150/150 [==============================] - 0s 235us/step - loss: 0.5794 - accuracy: 0.8467\n",
            "Epoch 24/200\n",
            "150/150 [==============================] - 0s 258us/step - loss: 0.5606 - accuracy: 0.9267\n",
            "Epoch 25/200\n",
            "150/150 [==============================] - 0s 207us/step - loss: 0.5428 - accuracy: 0.9667\n",
            "Epoch 26/200\n",
            "150/150 [==============================] - 0s 201us/step - loss: 0.5279 - accuracy: 0.9733\n",
            "Epoch 27/200\n",
            "150/150 [==============================] - 0s 202us/step - loss: 0.5125 - accuracy: 0.9733\n",
            "Epoch 28/200\n",
            "150/150 [==============================] - 0s 225us/step - loss: 0.5000 - accuracy: 0.9667\n",
            "Epoch 29/200\n",
            "150/150 [==============================] - 0s 222us/step - loss: 0.4879 - accuracy: 0.9600\n",
            "Epoch 30/200\n",
            "150/150 [==============================] - 0s 206us/step - loss: 0.4750 - accuracy: 0.9667\n",
            "Epoch 31/200\n",
            "150/150 [==============================] - 0s 205us/step - loss: 0.4636 - accuracy: 0.9733\n",
            "Epoch 32/200\n",
            "150/150 [==============================] - 0s 198us/step - loss: 0.4528 - accuracy: 0.9733\n",
            "Epoch 33/200\n",
            "150/150 [==============================] - 0s 196us/step - loss: 0.4434 - accuracy: 0.9667\n",
            "Epoch 34/200\n",
            "150/150 [==============================] - 0s 199us/step - loss: 0.4307 - accuracy: 0.9733\n",
            "Epoch 35/200\n",
            "150/150 [==============================] - 0s 197us/step - loss: 0.4222 - accuracy: 0.9667\n",
            "Epoch 36/200\n",
            "150/150 [==============================] - 0s 200us/step - loss: 0.4111 - accuracy: 0.9733\n",
            "Epoch 37/200\n",
            "150/150 [==============================] - 0s 192us/step - loss: 0.4023 - accuracy: 0.9667\n",
            "Epoch 38/200\n",
            "150/150 [==============================] - 0s 195us/step - loss: 0.3972 - accuracy: 0.9400\n",
            "Epoch 39/200\n",
            "150/150 [==============================] - 0s 200us/step - loss: 0.3844 - accuracy: 0.9667\n",
            "Epoch 40/200\n",
            "150/150 [==============================] - 0s 195us/step - loss: 0.3757 - accuracy: 0.9733\n",
            "Epoch 41/200\n",
            "150/150 [==============================] - 0s 207us/step - loss: 0.3696 - accuracy: 0.9667\n",
            "Epoch 42/200\n",
            "150/150 [==============================] - 0s 199us/step - loss: 0.3599 - accuracy: 0.9667\n",
            "Epoch 43/200\n",
            "150/150 [==============================] - 0s 209us/step - loss: 0.3527 - accuracy: 0.9733\n",
            "Epoch 44/200\n",
            "150/150 [==============================] - 0s 222us/step - loss: 0.3456 - accuracy: 0.9733\n",
            "Epoch 45/200\n",
            "150/150 [==============================] - 0s 209us/step - loss: 0.3382 - accuracy: 0.9733\n",
            "Epoch 46/200\n",
            "150/150 [==============================] - 0s 219us/step - loss: 0.3320 - accuracy: 0.9667\n",
            "Epoch 47/200\n",
            "150/150 [==============================] - 0s 205us/step - loss: 0.3267 - accuracy: 0.9800\n",
            "Epoch 48/200\n",
            "150/150 [==============================] - 0s 198us/step - loss: 0.3205 - accuracy: 0.9733\n",
            "Epoch 49/200\n",
            "150/150 [==============================] - 0s 198us/step - loss: 0.3150 - accuracy: 0.9667\n",
            "Epoch 50/200\n",
            "150/150 [==============================] - 0s 232us/step - loss: 0.3083 - accuracy: 0.9733\n",
            "Epoch 51/200\n",
            "150/150 [==============================] - 0s 200us/step - loss: 0.3025 - accuracy: 0.9733\n",
            "Epoch 52/200\n",
            "150/150 [==============================] - 0s 200us/step - loss: 0.2994 - accuracy: 0.9733\n",
            "Epoch 53/200\n",
            "150/150 [==============================] - 0s 219us/step - loss: 0.2926 - accuracy: 0.9733\n",
            "Epoch 54/200\n",
            "150/150 [==============================] - 0s 200us/step - loss: 0.2894 - accuracy: 0.9667\n",
            "Epoch 55/200\n",
            "150/150 [==============================] - 0s 208us/step - loss: 0.2883 - accuracy: 0.9600\n",
            "Epoch 56/200\n",
            "150/150 [==============================] - 0s 225us/step - loss: 0.2789 - accuracy: 0.9667\n",
            "Epoch 57/200\n",
            "150/150 [==============================] - 0s 239us/step - loss: 0.2744 - accuracy: 0.9733\n",
            "Epoch 58/200\n",
            "150/150 [==============================] - 0s 240us/step - loss: 0.2710 - accuracy: 0.9667\n",
            "Epoch 59/200\n",
            "150/150 [==============================] - 0s 232us/step - loss: 0.2670 - accuracy: 0.9733\n",
            "Epoch 60/200\n",
            "150/150 [==============================] - 0s 226us/step - loss: 0.2640 - accuracy: 0.9733\n",
            "Epoch 61/200\n",
            "150/150 [==============================] - 0s 204us/step - loss: 0.2590 - accuracy: 0.9733\n",
            "Epoch 62/200\n",
            "150/150 [==============================] - 0s 206us/step - loss: 0.2562 - accuracy: 0.9733\n",
            "Epoch 63/200\n",
            "150/150 [==============================] - 0s 203us/step - loss: 0.2526 - accuracy: 0.9733\n",
            "Epoch 64/200\n",
            "150/150 [==============================] - 0s 208us/step - loss: 0.2503 - accuracy: 0.9733\n",
            "Epoch 65/200\n",
            "150/150 [==============================] - 0s 216us/step - loss: 0.2461 - accuracy: 0.9733\n",
            "Epoch 66/200\n",
            "150/150 [==============================] - 0s 208us/step - loss: 0.2424 - accuracy: 0.9667\n",
            "Epoch 67/200\n",
            "150/150 [==============================] - 0s 198us/step - loss: 0.2391 - accuracy: 0.9733\n",
            "Epoch 68/200\n",
            "150/150 [==============================] - 0s 205us/step - loss: 0.2385 - accuracy: 0.9733\n",
            "Epoch 69/200\n",
            "150/150 [==============================] - 0s 207us/step - loss: 0.2334 - accuracy: 0.9733\n",
            "Epoch 70/200\n",
            "150/150 [==============================] - 0s 199us/step - loss: 0.2310 - accuracy: 0.9733\n",
            "Epoch 71/200\n",
            "150/150 [==============================] - 0s 200us/step - loss: 0.2290 - accuracy: 0.9667\n",
            "Epoch 72/200\n",
            "150/150 [==============================] - 0s 202us/step - loss: 0.2258 - accuracy: 0.9733\n",
            "Epoch 73/200\n",
            "150/150 [==============================] - 0s 201us/step - loss: 0.2232 - accuracy: 0.9733\n",
            "Epoch 74/200\n",
            "150/150 [==============================] - 0s 200us/step - loss: 0.2190 - accuracy: 0.9667\n",
            "Epoch 75/200\n",
            "150/150 [==============================] - 0s 200us/step - loss: 0.2170 - accuracy: 0.9733\n",
            "Epoch 76/200\n",
            "150/150 [==============================] - 0s 208us/step - loss: 0.2143 - accuracy: 0.9733\n",
            "Epoch 77/200\n",
            "150/150 [==============================] - 0s 202us/step - loss: 0.2132 - accuracy: 0.9733\n",
            "Epoch 78/200\n",
            "150/150 [==============================] - 0s 206us/step - loss: 0.2118 - accuracy: 0.9800\n",
            "Epoch 79/200\n",
            "150/150 [==============================] - 0s 197us/step - loss: 0.2105 - accuracy: 0.9800\n",
            "Epoch 80/200\n",
            "150/150 [==============================] - 0s 198us/step - loss: 0.2052 - accuracy: 0.9733\n",
            "Epoch 81/200\n",
            "150/150 [==============================] - 0s 250us/step - loss: 0.2031 - accuracy: 0.9733\n",
            "Epoch 82/200\n",
            "150/150 [==============================] - 0s 243us/step - loss: 0.2011 - accuracy: 0.9733\n",
            "Epoch 83/200\n",
            "150/150 [==============================] - 0s 197us/step - loss: 0.1996 - accuracy: 0.9667\n",
            "Epoch 84/200\n",
            "150/150 [==============================] - 0s 203us/step - loss: 0.1982 - accuracy: 0.9733\n",
            "Epoch 85/200\n",
            "150/150 [==============================] - 0s 208us/step - loss: 0.1944 - accuracy: 0.9733\n",
            "Epoch 86/200\n",
            "150/150 [==============================] - 0s 218us/step - loss: 0.1929 - accuracy: 0.9733\n",
            "Epoch 87/200\n",
            "150/150 [==============================] - 0s 208us/step - loss: 0.1909 - accuracy: 0.9667\n",
            "Epoch 88/200\n",
            "150/150 [==============================] - 0s 219us/step - loss: 0.1901 - accuracy: 0.9733\n",
            "Epoch 89/200\n",
            "150/150 [==============================] - 0s 205us/step - loss: 0.1881 - accuracy: 0.9733\n",
            "Epoch 90/200\n",
            "150/150 [==============================] - 0s 208us/step - loss: 0.1871 - accuracy: 0.9733\n",
            "Epoch 91/200\n",
            "150/150 [==============================] - 0s 217us/step - loss: 0.1851 - accuracy: 0.9733\n",
            "Epoch 92/200\n",
            "150/150 [==============================] - 0s 217us/step - loss: 0.1832 - accuracy: 0.9800\n",
            "Epoch 93/200\n",
            "150/150 [==============================] - 0s 201us/step - loss: 0.1830 - accuracy: 0.9733\n",
            "Epoch 94/200\n",
            "150/150 [==============================] - 0s 194us/step - loss: 0.1789 - accuracy: 0.9733\n",
            "Epoch 95/200\n",
            "150/150 [==============================] - 0s 197us/step - loss: 0.1790 - accuracy: 0.9733\n",
            "Epoch 96/200\n",
            "150/150 [==============================] - 0s 193us/step - loss: 0.1772 - accuracy: 0.9733\n",
            "Epoch 97/200\n",
            "150/150 [==============================] - 0s 200us/step - loss: 0.1748 - accuracy: 0.9733\n",
            "Epoch 98/200\n",
            "150/150 [==============================] - 0s 204us/step - loss: 0.1735 - accuracy: 0.9800\n",
            "Epoch 99/200\n",
            "150/150 [==============================] - 0s 212us/step - loss: 0.1729 - accuracy: 0.9733\n",
            "Epoch 100/200\n",
            "150/150 [==============================] - 0s 227us/step - loss: 0.1725 - accuracy: 0.9733\n",
            "Epoch 101/200\n",
            "150/150 [==============================] - 0s 232us/step - loss: 0.1692 - accuracy: 0.9733\n",
            "Epoch 102/200\n",
            "150/150 [==============================] - 0s 213us/step - loss: 0.1668 - accuracy: 0.9733\n",
            "Epoch 103/200\n",
            "150/150 [==============================] - 0s 216us/step - loss: 0.1686 - accuracy: 0.9733\n",
            "Epoch 104/200\n",
            "150/150 [==============================] - 0s 191us/step - loss: 0.1644 - accuracy: 0.9733\n",
            "Epoch 105/200\n",
            "150/150 [==============================] - 0s 206us/step - loss: 0.1630 - accuracy: 0.9733\n",
            "Epoch 106/200\n",
            "150/150 [==============================] - 0s 206us/step - loss: 0.1623 - accuracy: 0.9733\n",
            "Epoch 107/200\n",
            "150/150 [==============================] - 0s 214us/step - loss: 0.1607 - accuracy: 0.9667\n",
            "Epoch 108/200\n",
            "150/150 [==============================] - 0s 230us/step - loss: 0.1593 - accuracy: 0.9667\n",
            "Epoch 109/200\n",
            "150/150 [==============================] - 0s 209us/step - loss: 0.1586 - accuracy: 0.9733\n",
            "Epoch 110/200\n",
            "150/150 [==============================] - 0s 251us/step - loss: 0.1567 - accuracy: 0.9667\n",
            "Epoch 111/200\n",
            "150/150 [==============================] - 0s 235us/step - loss: 0.1556 - accuracy: 0.9733\n",
            "Epoch 112/200\n",
            "150/150 [==============================] - 0s 208us/step - loss: 0.1550 - accuracy: 0.9733\n",
            "Epoch 113/200\n",
            "150/150 [==============================] - 0s 197us/step - loss: 0.1539 - accuracy: 0.9667\n",
            "Epoch 114/200\n",
            "150/150 [==============================] - 0s 198us/step - loss: 0.1536 - accuracy: 0.9733\n",
            "Epoch 115/200\n",
            "150/150 [==============================] - 0s 207us/step - loss: 0.1523 - accuracy: 0.9800\n",
            "Epoch 116/200\n",
            "150/150 [==============================] - 0s 196us/step - loss: 0.1527 - accuracy: 0.9733\n",
            "Epoch 117/200\n",
            "150/150 [==============================] - 0s 200us/step - loss: 0.1498 - accuracy: 0.9733\n",
            "Epoch 118/200\n",
            "150/150 [==============================] - 0s 194us/step - loss: 0.1488 - accuracy: 0.9733\n",
            "Epoch 119/200\n",
            "150/150 [==============================] - 0s 210us/step - loss: 0.1480 - accuracy: 0.9667\n",
            "Epoch 120/200\n",
            "150/150 [==============================] - 0s 201us/step - loss: 0.1482 - accuracy: 0.9733\n",
            "Epoch 121/200\n",
            "150/150 [==============================] - 0s 207us/step - loss: 0.1527 - accuracy: 0.9733\n",
            "Epoch 122/200\n",
            "150/150 [==============================] - 0s 201us/step - loss: 0.1451 - accuracy: 0.9733\n",
            "Epoch 123/200\n",
            "150/150 [==============================] - 0s 192us/step - loss: 0.1447 - accuracy: 0.9667\n",
            "Epoch 124/200\n",
            "150/150 [==============================] - 0s 196us/step - loss: 0.1436 - accuracy: 0.9667\n",
            "Epoch 125/200\n",
            "150/150 [==============================] - 0s 199us/step - loss: 0.1425 - accuracy: 0.9667\n",
            "Epoch 126/200\n",
            "150/150 [==============================] - 0s 206us/step - loss: 0.1411 - accuracy: 0.9733\n",
            "Epoch 127/200\n",
            "150/150 [==============================] - 0s 194us/step - loss: 0.1416 - accuracy: 0.9667\n",
            "Epoch 128/200\n",
            "150/150 [==============================] - 0s 209us/step - loss: 0.1414 - accuracy: 0.9667\n",
            "Epoch 129/200\n",
            "150/150 [==============================] - 0s 198us/step - loss: 0.1395 - accuracy: 0.9667\n",
            "Epoch 130/200\n",
            "150/150 [==============================] - 0s 197us/step - loss: 0.1384 - accuracy: 0.9667\n",
            "Epoch 131/200\n",
            "150/150 [==============================] - 0s 197us/step - loss: 0.1394 - accuracy: 0.9733\n",
            "Epoch 132/200\n",
            "150/150 [==============================] - 0s 207us/step - loss: 0.1369 - accuracy: 0.9733\n",
            "Epoch 133/200\n",
            "150/150 [==============================] - 0s 203us/step - loss: 0.1352 - accuracy: 0.9733\n",
            "Epoch 134/200\n",
            "150/150 [==============================] - 0s 201us/step - loss: 0.1353 - accuracy: 0.9733\n",
            "Epoch 135/200\n",
            "150/150 [==============================] - 0s 253us/step - loss: 0.1341 - accuracy: 0.9733\n",
            "Epoch 136/200\n",
            "150/150 [==============================] - 0s 199us/step - loss: 0.1357 - accuracy: 0.9667\n",
            "Epoch 137/200\n",
            "150/150 [==============================] - 0s 204us/step - loss: 0.1342 - accuracy: 0.9733\n",
            "Epoch 138/200\n",
            "150/150 [==============================] - 0s 214us/step - loss: 0.1330 - accuracy: 0.9667\n",
            "Epoch 139/200\n",
            "150/150 [==============================] - 0s 216us/step - loss: 0.1316 - accuracy: 0.9733\n",
            "Epoch 140/200\n",
            "150/150 [==============================] - 0s 207us/step - loss: 0.1310 - accuracy: 0.9733\n",
            "Epoch 141/200\n",
            "150/150 [==============================] - 0s 195us/step - loss: 0.1330 - accuracy: 0.9733\n",
            "Epoch 142/200\n",
            "150/150 [==============================] - 0s 196us/step - loss: 0.1310 - accuracy: 0.9733\n",
            "Epoch 143/200\n",
            "150/150 [==============================] - 0s 227us/step - loss: 0.1286 - accuracy: 0.9667\n",
            "Epoch 144/200\n",
            "150/150 [==============================] - 0s 214us/step - loss: 0.1271 - accuracy: 0.9667\n",
            "Epoch 145/200\n",
            "150/150 [==============================] - 0s 196us/step - loss: 0.1280 - accuracy: 0.9800\n",
            "Epoch 146/200\n",
            "150/150 [==============================] - 0s 199us/step - loss: 0.1264 - accuracy: 0.9667\n",
            "Epoch 147/200\n",
            "150/150 [==============================] - 0s 201us/step - loss: 0.1256 - accuracy: 0.9667\n",
            "Epoch 148/200\n",
            "150/150 [==============================] - 0s 199us/step - loss: 0.1269 - accuracy: 0.9667\n",
            "Epoch 149/200\n",
            "150/150 [==============================] - 0s 201us/step - loss: 0.1254 - accuracy: 0.9733\n",
            "Epoch 150/200\n",
            "150/150 [==============================] - 0s 225us/step - loss: 0.1259 - accuracy: 0.9667\n",
            "Epoch 151/200\n",
            "150/150 [==============================] - 0s 231us/step - loss: 0.1244 - accuracy: 0.9733\n",
            "Epoch 152/200\n",
            "150/150 [==============================] - 0s 227us/step - loss: 0.1226 - accuracy: 0.9667\n",
            "Epoch 153/200\n",
            "150/150 [==============================] - 0s 214us/step - loss: 0.1218 - accuracy: 0.9667\n",
            "Epoch 154/200\n",
            "150/150 [==============================] - 0s 205us/step - loss: 0.1223 - accuracy: 0.9667\n",
            "Epoch 155/200\n",
            "150/150 [==============================] - 0s 244us/step - loss: 0.1220 - accuracy: 0.9733\n",
            "Epoch 156/200\n",
            "150/150 [==============================] - 0s 236us/step - loss: 0.1209 - accuracy: 0.9733\n",
            "Epoch 157/200\n",
            "150/150 [==============================] - 0s 231us/step - loss: 0.1210 - accuracy: 0.9667\n",
            "Epoch 158/200\n",
            "150/150 [==============================] - 0s 236us/step - loss: 0.1201 - accuracy: 0.9667\n",
            "Epoch 159/200\n",
            "150/150 [==============================] - 0s 231us/step - loss: 0.1183 - accuracy: 0.9733\n",
            "Epoch 160/200\n",
            "150/150 [==============================] - 0s 239us/step - loss: 0.1177 - accuracy: 0.9667\n",
            "Epoch 161/200\n",
            "150/150 [==============================] - 0s 247us/step - loss: 0.1214 - accuracy: 0.9600\n",
            "Epoch 162/200\n",
            "150/150 [==============================] - 0s 237us/step - loss: 0.1179 - accuracy: 0.9733\n",
            "Epoch 163/200\n",
            "150/150 [==============================] - 0s 233us/step - loss: 0.1166 - accuracy: 0.9667\n",
            "Epoch 164/200\n",
            "150/150 [==============================] - 0s 254us/step - loss: 0.1158 - accuracy: 0.9667\n",
            "Epoch 165/200\n",
            "150/150 [==============================] - 0s 242us/step - loss: 0.1163 - accuracy: 0.9733\n",
            "Epoch 166/200\n",
            "150/150 [==============================] - 0s 238us/step - loss: 0.1154 - accuracy: 0.9667\n",
            "Epoch 167/200\n",
            "150/150 [==============================] - 0s 241us/step - loss: 0.1149 - accuracy: 0.9733\n",
            "Epoch 168/200\n",
            "150/150 [==============================] - 0s 223us/step - loss: 0.1155 - accuracy: 0.9667\n",
            "Epoch 169/200\n",
            "150/150 [==============================] - 0s 228us/step - loss: 0.1138 - accuracy: 0.9667\n",
            "Epoch 170/200\n",
            "150/150 [==============================] - 0s 238us/step - loss: 0.1143 - accuracy: 0.9667\n",
            "Epoch 171/200\n",
            "150/150 [==============================] - 0s 232us/step - loss: 0.1129 - accuracy: 0.9733\n",
            "Epoch 172/200\n",
            "150/150 [==============================] - 0s 260us/step - loss: 0.1141 - accuracy: 0.9667\n",
            "Epoch 173/200\n",
            "150/150 [==============================] - 0s 241us/step - loss: 0.1122 - accuracy: 0.9667\n",
            "Epoch 174/200\n",
            "150/150 [==============================] - 0s 239us/step - loss: 0.1115 - accuracy: 0.9667\n",
            "Epoch 175/200\n",
            "150/150 [==============================] - 0s 222us/step - loss: 0.1123 - accuracy: 0.9733\n",
            "Epoch 176/200\n",
            "150/150 [==============================] - 0s 207us/step - loss: 0.1109 - accuracy: 0.9733\n",
            "Epoch 177/200\n",
            "150/150 [==============================] - 0s 199us/step - loss: 0.1107 - accuracy: 0.9667\n",
            "Epoch 178/200\n",
            "150/150 [==============================] - 0s 215us/step - loss: 0.1110 - accuracy: 0.9667\n",
            "Epoch 179/200\n",
            "150/150 [==============================] - 0s 198us/step - loss: 0.1104 - accuracy: 0.9667\n",
            "Epoch 180/200\n",
            "150/150 [==============================] - 0s 210us/step - loss: 0.1117 - accuracy: 0.9733\n",
            "Epoch 181/200\n",
            "150/150 [==============================] - 0s 255us/step - loss: 0.1097 - accuracy: 0.9800\n",
            "Epoch 182/200\n",
            "150/150 [==============================] - 0s 230us/step - loss: 0.1087 - accuracy: 0.9667\n",
            "Epoch 183/200\n",
            "150/150 [==============================] - 0s 229us/step - loss: 0.1083 - accuracy: 0.9667\n",
            "Epoch 184/200\n",
            "150/150 [==============================] - 0s 236us/step - loss: 0.1081 - accuracy: 0.9733\n",
            "Epoch 185/200\n",
            "150/150 [==============================] - 0s 238us/step - loss: 0.1076 - accuracy: 0.9667\n",
            "Epoch 186/200\n",
            "150/150 [==============================] - 0s 236us/step - loss: 0.1074 - accuracy: 0.9733\n",
            "Epoch 187/200\n",
            "150/150 [==============================] - 0s 234us/step - loss: 0.1063 - accuracy: 0.9667\n",
            "Epoch 188/200\n",
            "150/150 [==============================] - 0s 235us/step - loss: 0.1067 - accuracy: 0.9667\n",
            "Epoch 189/200\n",
            "150/150 [==============================] - 0s 228us/step - loss: 0.1099 - accuracy: 0.9733\n",
            "Epoch 190/200\n",
            "150/150 [==============================] - 0s 237us/step - loss: 0.1046 - accuracy: 0.9733\n",
            "Epoch 191/200\n",
            "150/150 [==============================] - 0s 262us/step - loss: 0.1056 - accuracy: 0.9667\n",
            "Epoch 192/200\n",
            "150/150 [==============================] - 0s 240us/step - loss: 0.1057 - accuracy: 0.9667\n",
            "Epoch 193/200\n",
            "150/150 [==============================] - 0s 244us/step - loss: 0.1040 - accuracy: 0.9733\n",
            "Epoch 194/200\n",
            "150/150 [==============================] - 0s 256us/step - loss: 0.1041 - accuracy: 0.9667\n",
            "Epoch 195/200\n",
            "150/150 [==============================] - 0s 250us/step - loss: 0.1046 - accuracy: 0.9733\n",
            "Epoch 196/200\n",
            "150/150 [==============================] - 0s 252us/step - loss: 0.1034 - accuracy: 0.9667\n",
            "Epoch 197/200\n",
            "150/150 [==============================] - 0s 247us/step - loss: 0.1021 - accuracy: 0.9733\n",
            "Epoch 198/200\n",
            "150/150 [==============================] - 0s 247us/step - loss: 0.1032 - accuracy: 0.9667\n",
            "Epoch 199/200\n",
            "150/150 [==============================] - 0s 273us/step - loss: 0.1037 - accuracy: 0.9667\n",
            "Epoch 200/200\n",
            "150/150 [==============================] - 0s 259us/step - loss: 0.1007 - accuracy: 0.9667\n"
          ],
          "name": "stdout"
        },
        {
          "output_type": "execute_result",
          "data": {
            "text/plain": [
              "<keras.callbacks.callbacks.History at 0x7f115fce77b8>"
            ]
          },
          "metadata": {
            "tags": []
          },
          "execution_count": 53
        }
      ]
    },
    {
      "cell_type": "code",
      "metadata": {
        "id": "izUzVPxxSRfI",
        "colab_type": "code",
        "colab": {
          "base_uri": "https://localhost:8080/",
          "height": 51
        },
        "outputId": "f173eab3-c715-4af2-ae0d-e93f92ad848f"
      },
      "source": [
        "scores = model.evaluate(X, dummy_y) \n",
        "print(\"%s: %.2f%%\" % (model.metrics_names[1], scores[1]*100))\n"
      ],
      "execution_count": 55,
      "outputs": [
        {
          "output_type": "stream",
          "text": [
            "150/150 [==============================] - 0s 124us/step\n",
            "accuracy: 98.00%\n"
          ],
          "name": "stdout"
        }
      ]
    },
    {
      "cell_type": "code",
      "metadata": {
        "id": "SAcb2ymiQKiT",
        "colab_type": "code",
        "colab": {
          "base_uri": "https://localhost:8080/",
          "height": 326
        },
        "outputId": "34c7512f-aabd-4b05-ba2d-e98296ee7267"
      },
      "source": [
        "from sklearn.model_selection import StratifiedKFold\n",
        "# define 10-fold cross validation test harness \n",
        "kfold = StratifiedKFold(n_splits=10, shuffle=True, random_state=seed) \n",
        "cvscores = [] \n",
        "for train, test in kfold.split(X, encoded_Y): \n",
        "  model=baseline_model()\n",
        "  # Fit the model \n",
        "  model.fit(X[train], dummy_y[train], nb_epoch=150, batch_size=10, verbose=0) \n",
        "  # evaluate the model \n",
        "  scores = model.evaluate(X[test], dummy_y[test], verbose=0) \n",
        "  print(\"%s: %.2f%%\" % (model.metrics_names[1], scores[1]*100)) \n",
        "  cvscores.append(scores[1] * 100)\n",
        "\n",
        "print(\"%.2f%% (+/- %.2f%%)\" % (numpy.mean(cvscores), numpy.std(cvscores))) "
      ],
      "execution_count": 62,
      "outputs": [
        {
          "output_type": "stream",
          "text": [
            "/usr/local/lib/python3.6/dist-packages/ipykernel_launcher.py:4: UserWarning: Update your `Dense` call to the Keras 2 API: `Dense(4, input_dim=4, activation=\"relu\", kernel_initializer=\"normal\")`\n",
            "  after removing the cwd from sys.path.\n",
            "/usr/local/lib/python3.6/dist-packages/ipykernel_launcher.py:5: UserWarning: Update your `Dense` call to the Keras 2 API: `Dense(3, activation=\"sigmoid\", kernel_initializer=\"normal\")`\n",
            "  \"\"\"\n",
            "/usr/local/lib/python3.6/dist-packages/ipykernel_launcher.py:8: UserWarning: The `nb_epoch` argument in `fit` has been renamed `epochs`.\n",
            "  \n"
          ],
          "name": "stderr"
        },
        {
          "output_type": "stream",
          "text": [
            "accuracy: 93.33%\n",
            "accuracy: 93.33%\n",
            "accuracy: 100.00%\n",
            "accuracy: 93.33%\n",
            "accuracy: 100.00%\n",
            "accuracy: 93.33%\n",
            "accuracy: 93.33%\n",
            "accuracy: 66.67%\n",
            "accuracy: 86.67%\n",
            "accuracy: 100.00%\n",
            "92.00% (+/- 9.33%)\n"
          ],
          "name": "stdout"
        }
      ]
    }
  ]
}